{
 "cells": [
  {
   "cell_type": "markdown",
   "metadata": {},
   "source": [
    "# Test Notebook\n",
    "\n",
    "***\n",
    "\n",
    "## Description\n",
    "This is a test notebook to do data exploration of the dataset \"Recorded Crime: Geographic Breakdown\" avaliable from the Metropolitan Police.\n",
    "\n",
    "The URL for this data is: https://data.london.gov.uk/dataset/recorded_crime_summary\n",
    "\n",
    "The description of the data is detailed below:\n",
    "\n",
    "> This data counts the number of crimes at three different geographic levels of London (borough, ward, LSOA) per month, according to crime type. \n",
    "\n",
    "> Data is available in two files for each level of geography - the most up to date data covering the last available 24 months only and one covering all historic full calendar years.\n",
    "\n",
    "> In March 2019, the Metropolitan Police Service started to provide offences grouped by the updated Home Office crime classifications . This currently only covers the most recent 24 months of data, but historic data using the previous categories is available separately back to January 2008\n",
    "\n",
    "The types of crime that are covered are listed below: \n",
    "\n",
    "**Major Category**:  Minor Category \n",
    "\n",
    "**Arson and Criminal Damage** - Arson / Criminal Damage\n",
    "\n",
    "**Burglary**: Burglary - Business and Community / Burglary - Residential**\n",
    "\n",
    "**Drug Offences**: Drug Trafficking / Possession of Drugs\n",
    "\n",
    "**Miscellaneous Crimes Against Society**: Absconding from Lawful Custody / Bail Offences / Bigamy / Concealing an Infant Death Close to Birth / Dangerous Driving / Disclosure, Obstruction, False or Misleading State / Exploitation of Prostitution / Forgery or Use of Drug Prescription / Fraud or Forgery Associated with Driver Records / Going Equipped for Stealing / Handling Stolen Goods / Making, Supplying or Possessing Articles for use i / Obscene Publications / Offender Management Act / Other Forgery / Other Notifiable Offences / Perjury / Perverting Course of Justice / Possession of False Documents / Profitting From or Concealing Proceeds of Crime / Soliciting for Prostitution / Threat or Possession With Intent to Commit Crimina / Wildlife Crime\n",
    "\n",
    "**Possession of Weapons**: Other Firearm Offences / Possession of Firearm with Intent / Possession of Firearms Offences / Possession of Other Weapon / Possession of Article with Blade or Point\n",
    "\n",
    "**Public Order Offences**: Other Offences Against the State, or Public Order / Public Fear Alarm or Distress / Racially or Religiously Aggravated Public Fear / Violent Disorder\n",
    "\n",
    "**Robbery**: Robbery of Business Property / Robbery of Personal Property\n",
    "\n",
    "**Sexual Offences**: Other Sexual Offences / Rape\n",
    "\n",
    "**Theft**: Bicycle Theft / Other Theft / Shoplifting / Theft from Person\n",
    "\n",
    "**Vehicle Offences**: Aggravated Vehicle Taking / Interfering with a Motor Vehicle / Theft from a Motor Vehicle / Theft or Taking of a Motor Vehicle\n",
    "\n",
    "**Violence Against the Person**: Homicide / Violence with Injury / Violence without Injury"
   ]
  },
  {
   "cell_type": "code",
   "execution_count": null,
   "metadata": {},
   "outputs": [],
   "source": [
    "# Python Dependencies\n",
    "import pandas as pd\n",
    "import numpy as np"
   ]
  },
  {
   "cell_type": "code",
   "execution_count": null,
   "metadata": {},
   "outputs": [],
   "source": [
    "# Data Loading\n",
    "# > MPS Borough Level Crime (most recent 24 months)\n",
    "url = \"https://data.london.gov.uk/download/recorded_crime_summary/d2e9ccfc-a054-41e3-89fb-53c2bc3ed87a/MPS%20Borough%20Level%20Crime%20%28most%20recent%2024%20months%29.csv\"\n",
    "df = pd.read_csv(url)\n",
    "# > MPS Borough Level Crime (historic) - 01/02/2014 to 31/03/2017\n",
    "# url = \"https://data.london.gov.uk/download/recorded_crime_summary/2bbd58c7-6be6-40ac-99ed-38c0ee411c8e/MPS_Borough_Level_Crime_Historic.csv\"\n",
    "# df = pd.read_csv(url)"
   ]
  }
 ],
 "metadata": {
  "kernelspec": {
   "display_name": "Python 3",
   "language": "python",
   "name": "python3"
  },
  "language_info": {
   "codemirror_mode": {
    "name": "ipython",
    "version": 3
   },
   "file_extension": ".py",
   "mimetype": "text/x-python",
   "name": "python",
   "nbconvert_exporter": "python",
   "pygments_lexer": "ipython3",
   "version": "3.7.6"
  }
 },
 "nbformat": 4,
 "nbformat_minor": 4
}
